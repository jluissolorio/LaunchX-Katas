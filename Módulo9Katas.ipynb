{
  "cells": [
    {
      "cell_type": "markdown",
      "metadata": {},
      "source": [
        "# Ejercicio: Uso de funciones en Python"
      ]
    },
    {
      "cell_type": "markdown",
      "metadata": {},
      "source": [
        "### Ejercicio 1: Trabajar con argumentos en funciones\n",
        "\n",
        "Los argumentos requeridos en las funciones se utilizan cuando las funciones necesitan que esos argumentos funcionen correctamente. En este ejercicio, construirás un informe de combustible que requiere información de varias ubicaciones de combustible en todo el cohete.\n",
        "\n"
      ]
    },
    {
      "cell_type": "markdown",
      "metadata": {},
      "source": [
        "> **TIP**\n",
        "> Dedica unos minutos para tratar de encontrar una solución. Luego desplázate hacia abajo hasta la parte inferior para ver si has logrado compilar el programa de acuerdo con las especificaciones\n",
        "\n",
        "Comienza por crear una función que necesite tres lecturas de combustible y devuelva un informe:"
      ]
    },
    {
      "cell_type": "code",
      "execution_count": 1,
      "metadata": {},
      "outputs": [],
      "source": [
        "# Función para leer 3 tanques de combustible y muestre el promedio\n",
        "def tanques(tanque1, tanque2, tanque3):\n",
        "    print('Informe de llenado de Tanques:')\n",
        "    print(f'/'*30)\n",
        "    print(f'Lectura Tanque 1: ',tanque1,'%\\nLectura Tanque 2: ',tanque2, '%\\nLectura Tanque 3: ',tanque3,'%')\n",
        "    print(f'Promedio de combustible: ', (tanque1+tanque2+tanque3)/3, '%')"
      ]
    },
    {
      "cell_type": "markdown",
      "metadata": {},
      "source": [
        "Ahora que hemos definido la función de informes, vamos a comprobarlo. Para esta misión, los tanques no están llenos:"
      ]
    },
    {
      "cell_type": "code",
      "execution_count": 2,
      "metadata": {},
      "outputs": [
        {
          "name": "stdout",
          "output_type": "stream",
          "text": [
            "Informe de llenado de Tanques:\n",
            "//////////////////////////////\n",
            "Lectura Tanque 1:  10 %\n",
            "Lectura Tanque 2:  50 %\n",
            "Lectura Tanque 3:  60 %\n",
            "Promedio de combustible:  40.0 %\n"
          ]
        }
      ],
      "source": [
        "# Llamamos a la función que genera el reporte print(funcion(tanque1, tanque2, tanque3))\n",
        "tanques(10,50,60)"
      ]
    },
    {
      "cell_type": "markdown",
      "metadata": {},
      "source": [
        "En lugar de simplemente crear el informe, la función también está calculando el promedio. Mejora la legibilidad extrayendo el cálculo promedio de la función en una nueva función para que el promedio se pueda hacer de forma independiente:"
      ]
    },
    {
      "cell_type": "code",
      "execution_count": 3,
      "metadata": {},
      "outputs": [],
      "source": [
        "# Función promedio \n",
        "def promedio(tanks):\n",
        "    total = sum(tanks)\n",
        "    n_tanques = len(tanks)\n",
        "    print('Promedio de combustible: ',total/n_tanques, '%')"
      ]
    },
    {
      "cell_type": "markdown",
      "metadata": {},
      "source": [
        "Ahora actualiza la función de informes para llamando a la nueva función del promedio:\n"
      ]
    },
    {
      "cell_type": "code",
      "execution_count": 5,
      "metadata": {},
      "outputs": [
        {
          "name": "stdout",
          "output_type": "stream",
          "text": [
            "Informe de llenado de Tanques:\n",
            "//////////////////////////////\n",
            "Lectura Tanque 1:  10 %\n",
            "Lectura Tanque 2:  50 %\n",
            "Lectura Tanque 3:  60 %\n",
            "Promedio de combustible:  40.0 %\n",
            "None\n",
            "None\n"
          ]
        }
      ],
      "source": [
        "# Actualiza la función\n",
        "def tanques(tanque1, tanque2, tanque3):\n",
        "    print('Informe de llenado de Tanques:')\n",
        "    print(f'/'*30)\n",
        "    print(f'Lectura Tanque 1: ',tanque1,'%\\nLectura Tanque 2: ',tanque2, '%\\nLectura Tanque 3: ',tanque3,'%')\n",
        "    print(promedio([tanque1,tanque2,tanque3]))\n",
        "\n",
        "print(tanques(10,50,60))"
      ]
    },
    {
      "cell_type": "markdown",
      "metadata": {},
      "source": [
        "> Recuerda: Lo importante es intentarlo, puedes auxiliarte de internet, libros, etc. El objetivo de una kata es la comprobación de la comprensión de la lección y su aplicación inmediata a la resolución de problemas. Go for it!"
      ]
    },
    {
      "cell_type": "markdown",
      "metadata": {},
      "source": [
        "## Ejercicio 2: Trabajo con argumentos de palabra clave"
      ]
    },
    {
      "cell_type": "markdown",
      "metadata": {},
      "source": [
        "### Ejercicio : Trabajar con argumentos de palabras clave en funciones\n",
        "En este ejercicio, construirás un informe de cohete que requiere varias piezas de información, como el tiempo hasta el destino, el combustible a la izquierda y el nombre del destino. Comienza por crear una función que creará un informe preciso de la misión:"
      ]
    },
    {
      "cell_type": "code",
      "execution_count": 21,
      "metadata": {},
      "outputs": [
        {
          "name": "stdout",
          "output_type": "stream",
          "text": [
            "Vamos camino a: Planeta ET\n",
            "Tiempo hasta el destino: 210 mins\n",
            "Tenemos: 450 L de gas\n",
            "None\n"
          ]
        }
      ],
      "source": [
        "# Función con un informe preciso de la misión. Considera hora de prelanzamiento, tiempo de vuelo, destino, tanque externo y tanque interno\n",
        "def informe_completo(tiempo_destino, comb_int, comb_ext, destino, tiempo_partida):\n",
        "    print(f'Vamos camino a:', destino)\n",
        "    print(f'Tiempo hasta el destino:', tiempo_partida+tiempo_destino, 'mins')\n",
        "    print(f'Tenemos:', comb_int+comb_ext, 'L de gas')\n",
        "\n",
        "print(informe_completo(10,200,250,'Planeta ET',200))"
      ]
    },
    {
      "cell_type": "markdown",
      "metadata": {},
      "source": [
        "La función es problemática porque no se puede adaptar para minutos adicionales o tanques adicionales de combustible. Hazlo más flexible permitiendo cualquier número de pasos basados en el tiempo y cualquier número de tanques. En lugar de usar `*args` y `**kwargs`, aprovecha el hecho de que puedes usar cualquier nombre que desees. Asegurate que la función sea más legible mediante el uso de nombres de variables que están asociados con las entradas, como `*minutes` y `**fuel_reservoirs`:"
      ]
    },
    {
      "cell_type": "code",
      "execution_count": 22,
      "metadata": {},
      "outputs": [
        {
          "name": "stdout",
          "output_type": "stream",
          "text": [
            "Vamos camino a: Planeta ET\n",
            "Tiempo hasta el destino: 210 mins\n",
            "Tenemos: 450 L de gas\n",
            "None\n"
          ]
        }
      ],
      "source": [
        "# Escribe tu nueva función de reporte considerando lo anterior\n",
        "def informe_completo( destino, *args_min, **args_comb):\n",
        "    print(f'Vamos camino a:', destino)\n",
        "    print(f'Tiempo hasta el destino:', sum(args_min), 'mins')\n",
        "    print(f'Tenemos:', sum(args_comb.values()), 'L de gas')\n",
        "\n",
        "print(informe_completo('Planeta ET',10,200,tank1=150,tank2=300))"
      ]
    },
    {
      "cell_type": "markdown",
      "metadata": {},
      "source": [
        "Debido a que el combustible que queda en los tanques es específico de cada tanque, actualiza la función para usar el nombre de cada tanque en el informe:"
      ]
    },
    {
      "cell_type": "code",
      "execution_count": 35,
      "metadata": {},
      "outputs": [
        {
          "name": "stdout",
          "output_type": "stream",
          "text": [
            "\n",
            "    Vamos camino a: Planeta ET\n",
            "    Tiempo hasta el destino: 210 'mins'\n",
            "    'Tenemos:' 450 'L de gas'\n",
            "    \n",
            "Tenemos en tank1 la capacidad de 150 L de gas\n",
            "Tenemos en tank2 la capacidad de 300 L de gas\n"
          ]
        }
      ],
      "source": [
        "# Escribe tu nueva función\n",
        "def informe_completo( destino, *args_min, **args_comb):\n",
        "    reporte = f'''\n",
        "    Vamos camino a: {destino}\n",
        "    Tiempo hasta el destino: {sum(args_min)} 'mins'\n",
        "    'Tenemos:' {sum(args_comb.values())} 'L de gas'\n",
        "    '''\n",
        "    for tank,capacidad in args_comb.items():\n",
        "        reporte += f'\\nTenemos en {tank} la capacidad de {capacidad} L de gas'\n",
        "    return reporte \n",
        "\n",
        "print(informe_completo('Planeta ET',10,200,tank1=150,tank2=300))"
      ]
    }
  ],
  "metadata": {
    "interpreter": {
      "hash": "205095b8b86ea82a021a8fc2ffba2b3bc9f8d0be25999901963b225939f75778"
    },
    "kernelspec": {
      "display_name": "Python 3.8.10 64-bit ('tmp': conda)",
      "name": "python3"
    },
    "language_info": {
      "codemirror_mode": {
        "name": "ipython",
        "version": 3
      },
      "file_extension": ".py",
      "mimetype": "text/x-python",
      "name": "python",
      "nbconvert_exporter": "python",
      "pygments_lexer": "ipython3",
      "version": "3.10.2"
    },
    "nteract": {
      "version": "nteract-front-end@1.0.0"
    },
    "orig_nbformat": 4
  },
  "nbformat": 4,
  "nbformat_minor": 2
}
